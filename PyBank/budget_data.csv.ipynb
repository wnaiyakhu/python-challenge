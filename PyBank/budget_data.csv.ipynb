{
 "cells": [
  {
   "cell_type": "code",
   "execution_count": 37,
   "id": "a3786702",
   "metadata": {},
   "outputs": [
    {
     "name": "stdout",
     "output_type": "stream",
     "text": [
      " Volume in drive C is Windows\n",
      " Volume Serial Number is 5E94-16FB\n",
      "\n",
      " Directory of C:\\Users\\wnaiy\\OneDrive\\Desktop\n",
      "\n",
      "07/20/2023  02:13 PM    <DIR>          .\n",
      "07/17/2023  05:09 PM    <DIR>          ..\n",
      "07/19/2023  09:19 PM    <DIR>          .ipynb_checkpoints\n",
      "07/20/2023  02:13 PM            18,039 budget_data.csv.ipynb\n",
      "07/20/2023  02:12 PM    <DIR>          csvfiles\n",
      "03/20/2023  03:46 PM        12,190,897 election_data.csv\n",
      "07/19/2023  10:19 PM    <DIR>          notes\n",
      "07/10/2023  02:42 PM             2,218 Slack.lnk\n",
      "07/18/2023  12:08 AM    <DIR>          Starter_Code (1)\n",
      "07/10/2023  06:30 PM             1,417 Visual Studio Code.lnk\n",
      "07/19/2023  10:28 PM           199,809 wednesdaythenineteenth.ipynb\n",
      "07/06/2023  05:54 PM             1,944 Zoom.lnk\n",
      "               6 File(s)     12,414,324 bytes\n",
      "               6 Dir(s)  424,759,558,144 bytes free\n"
     ]
    }
   ],
   "source": [
    "ls"
   ]
  },
  {
   "cell_type": "code",
   "execution_count": 38,
   "id": "43e81445",
   "metadata": {},
   "outputs": [],
   "source": [
    "import os\n",
    "import csv\n",
    "csvpath = os.path.join(\"budget_data.csv\")\n",
    "csvoutput = os.path.join(\"output.txt\")"
   ]
  },
  {
   "cell_type": "code",
   "execution_count": 39,
   "id": "96c96fde",
   "metadata": {},
   "outputs": [
    {
     "data": {
      "text/plain": [
       "'budget_data.csv'"
      ]
     },
     "execution_count": 39,
     "metadata": {},
     "output_type": "execute_result"
    }
   ],
   "source": [
    "csvpath"
   ]
  },
  {
   "cell_type": "code",
   "execution_count": 45,
   "id": "4a55dedb",
   "metadata": {},
   "outputs": [
    {
     "name": "stdout",
     "output_type": "stream",
     "text": [
      "Financial Analysis\n",
      "--------------------\n",
      "total number of months is : 86\n",
      "net total amount is : $22564198\n",
      "average change is -8311.105882352942\n",
      "Greatest increase in profits: Aug-16 ($1862002)\n",
      "Greatest decrease in profits: Feb-14 ($-1825558)\n"
     ]
    }
   ],
   "source": [
    "import os\n",
    "import csv\n",
    "csvpath = os.path.join(\"budget_data.csv\")\n",
    "csvoutput = os.path.join(\"output.txt\")\n",
    "total_months = 0\n",
    "net_total_amount = 0\n",
    "average_change = 0\n",
    "net_change_list = []\n",
    "months = []\n",
    "\n",
    "with open(csvpath) as csvfile:\n",
    "    csvreader = csv.reader(csvfile, delimiter = \",\")\n",
    "    csv_headers = next(csvreader)\n",
    "#     print(csv_headers)\n",
    "#     print(next(csvreader))\n",
    "\n",
    "    # The total number of months included in the dataset\n",
    "    # The net total amount of \"Profit/Losses\" over the entire period\n",
    "    # The changes in \"Profit/Losses\" over the entire period, and then the average of those changes\n",
    "    total_months += 1\n",
    "    first_row = next(csvreader)\n",
    "    prev = int(first_row[1])\n",
    "    net_total_amount += int(first_row[1])\n",
    "    \n",
    "    greatest_increase = ['', 0]\n",
    "    greatest_decrease = ['', 0]\n",
    "    \n",
    "    for x in csvreader:\n",
    "        months.append(x[0])\n",
    "        total_months += 1\n",
    "        net_total_amount += int(x[1])\n",
    "        net_change = int(x[1]) - prev\n",
    "        net_change_list.append(net_change)\n",
    "        prev = int(x[1])\n",
    "        \n",
    "        if net_change > greatest_increase[1]:\n",
    "            greatest_increase = [x[0], net_change]\n",
    "        if net_change < greatest_decrease[1]:\n",
    "            greatest_decrease = [x[0], net_change]\n",
    "            \n",
    "    average_change = sum(net_change_list) / len(net_change_list)\n",
    "    \n",
    "    print(\"Financial Analysis\")\n",
    "    print(f\"-\"*20)\n",
    "    print(f\"total number of months is : {total_months}\")\n",
    "    print(f\"net total amount is : ${net_total_amount}\")\n",
    "    print(f\"average change is {str(average_change)}\")\n",
    "    print(f\"Greatest increase in profits: {greatest_increase[0]} (${greatest_increase[1]})\")\n",
    "    print(f\"Greatest decrease in profits: {greatest_decrease[0]} (${greatest_decrease[1]})\")"
   ]
  },
  {
   "cell_type": "code",
   "execution_count": null,
   "id": "79bed772",
   "metadata": {},
   "outputs": [],
   "source": []
  }
 ],
 "metadata": {
  "kernelspec": {
   "display_name": "Python 3 (ipykernel)",
   "language": "python",
   "name": "python3"
  },
  "language_info": {
   "codemirror_mode": {
    "name": "ipython",
    "version": 3
   },
   "file_extension": ".py",
   "mimetype": "text/x-python",
   "name": "python",
   "nbconvert_exporter": "python",
   "pygments_lexer": "ipython3",
   "version": "3.10.9"
  }
 },
 "nbformat": 4,
 "nbformat_minor": 5
}
