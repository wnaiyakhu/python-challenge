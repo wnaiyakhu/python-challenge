{
 "cells": [
  {
   "cell_type": "code",
   "execution_count": 1,
   "id": "b9cb2cb9",
   "metadata": {},
   "outputs": [
    {
     "name": "stdout",
     "output_type": "stream",
     "text": [
      " Volume in drive C is Windows\n",
      " Volume Serial Number is 5E94-16FB\n",
      "\n",
      " Directory of C:\\Users\\wnaiy\\OneDrive\\Desktop\n",
      "\n",
      "07/20/2023  02:24 PM    <DIR>          .\n",
      "07/17/2023  05:09 PM    <DIR>          ..\n",
      "07/20/2023  02:24 PM    <DIR>          .ipynb_checkpoints\n",
      "03/20/2023  03:46 PM             1,341 budget_data.csv\n",
      "07/20/2023  02:17 PM             8,547 budget_data.csv.ipynb\n",
      "07/20/2023  02:15 PM    <DIR>          csvfiles\n",
      "07/20/2023  02:23 PM             1,140 election data csv.txt\n",
      "03/20/2023  03:46 PM        12,190,897 election_data.csv\n",
      "07/19/2023  10:19 PM    <DIR>          notes\n",
      "07/10/2023  02:42 PM             2,218 Slack.lnk\n",
      "07/18/2023  12:08 AM    <DIR>          Starter_Code (1)\n",
      "07/20/2023  02:24 PM                72 Untitled.ipynb\n",
      "07/10/2023  06:30 PM             1,417 Visual Studio Code.lnk\n",
      "07/19/2023  10:28 PM           199,809 wednesdaythenineteenth.ipynb\n",
      "07/06/2023  05:54 PM             1,944 Zoom.lnk\n",
      "               9 File(s)     12,407,385 bytes\n",
      "               6 Dir(s)  424,531,742,720 bytes free\n"
     ]
    }
   ],
   "source": [
    "ls"
   ]
  },
  {
   "cell_type": "code",
   "execution_count": 2,
   "id": "37faf23d",
   "metadata": {},
   "outputs": [
    {
     "name": "stdout",
     "output_type": "stream",
     "text": [
      "Elections Results\n",
      "--------------------\n",
      "Total Votes: 369711\n",
      "--------------------\n",
      "Charles Casper Stockham: 23.049% (85213)\n",
      "Diana DeGette: 73.812% (272892)\n",
      "Raymon Anthony Doane: 3.139% (11606)\n",
      "--------------------\n",
      "Winner: Diana DeGette\n",
      "--------------------\n"
     ]
    }
   ],
   "source": [
    "import os\n",
    "import csv\n",
    "\n",
    "csvpath = os.path.join(\"election_data.csv\")  \n",
    "total_votes_cast = 0\n",
    "candidates_votes = {}\n",
    "\n",
    "with open(csvpath) as csvfile:\n",
    "    csvreader = csv.reader(csvfile, delimiter=\",\")\n",
    "    csv_headers = next(csvreader)\n",
    "\n",
    "    for row in csvreader:\n",
    "        total_votes_cast += 1\n",
    "        candidate_name = row[2]\n",
    "        if candidate_name not in candidates_votes:\n",
    "            candidates_votes[candidate_name] = 0\n",
    "        candidates_votes[candidate_name] += 1\n",
    "\n",
    "# Calculate the percentage of votes each candidate won\n",
    "percentage_vote_won = {}\n",
    "for candidate, votes in candidates_votes.items():\n",
    "    percentage_vote_won[candidate] = (votes / total_votes_cast) * 100\n",
    "\n",
    "# Determine the winner (candidate with the most votes)\n",
    "winner = max(candidates_votes, key=candidates_votes.get)\n",
    "\n",
    "print(\"Elections Results\")\n",
    "print(f\"-\" * 20)\n",
    "print(f\"Total Votes: {total_votes_cast}\")\n",
    "print(f\"-\" * 20)\n",
    "\n",
    "# Print results for each candidate\n",
    "for candidate, votes in candidates_votes.items():\n",
    "    print(f\"{candidate}: {percentage_vote_won[candidate]:.3f}% ({votes})\")\n",
    "\n",
    "print(f\"-\" * 20)\n",
    "print(f\"Winner: {winner}\")\n",
    "print(f\"-\" * 20)"
   ]
  },
  {
   "cell_type": "code",
   "execution_count": null,
   "id": "e8f7336e",
   "metadata": {},
   "outputs": [],
   "source": []
  }
 ],
 "metadata": {
  "kernelspec": {
   "display_name": "Python 3 (ipykernel)",
   "language": "python",
   "name": "python3"
  },
  "language_info": {
   "codemirror_mode": {
    "name": "ipython",
    "version": 3
   },
   "file_extension": ".py",
   "mimetype": "text/x-python",
   "name": "python",
   "nbconvert_exporter": "python",
   "pygments_lexer": "ipython3",
   "version": "3.10.9"
  }
 },
 "nbformat": 4,
 "nbformat_minor": 5
}
